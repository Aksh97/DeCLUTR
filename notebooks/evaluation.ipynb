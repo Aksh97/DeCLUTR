{
 "cells": [
  {
   "cell_type": "markdown",
   "metadata": {
    "colab_type": "text",
    "id": "5C0whV0CPfWk"
   },
   "source": [
    "# Evaluating Document Embeddings\n",
    "\n",
    "This notebook provides code for performing several qualitative and quantitative analyses of document embeddings.\n",
    "\n",
    "## Getting Started\n",
    "\n",
    "First, import the required packages"
   ]
  },
  {
   "cell_type": "code",
   "execution_count": null,
   "metadata": {
    "colab": {},
    "colab_type": "code",
    "id": "yPfJKiY0Q38X"
   },
   "outputs": [],
   "source": [
    "import torch\n",
    "import pandas as pd\n",
    "import seaborn as sns; sns.set()\n",
    "import matplotlib.pyplot as plt\n",
    "import random\n",
    "import pathlib\n",
    "import json\n",
    "from sklearn.decomposition import PCA\n",
    "from sklearn.manifold import TSNE\n",
    "from tqdm import tqdm, trange\n",
    "from transformers import AutoModel\n",
    "from transformers import AutoTokenizer\n",
    "\n",
    "RANDOM_STATE = 42"
   ]
  },
  {
   "cell_type": "markdown",
   "metadata": {
    "colab_type": "text",
    "id": "1EXUESHxUmQl"
   },
   "source": [
    "### Upload the Required Files\n",
    "\n",
    "### Process the document embeddings\n",
    "\n",
    "In the following cell, we read in the document embeddings and convert them to torch tensors. We also read in the corresponding document class labels."
   ]
  },
  {
   "cell_type": "code",
   "execution_count": null,
   "metadata": {
    "colab": {
     "base_uri": "https://localhost:8080/",
     "height": 120,
     "referenced_widgets": [
      "87913a4398b847efb86abe5817a3eea2",
      "ec5d3d6c1b274bbd9fb071c1b44d32e2",
      "419c66c05fb34b5c8541957b3fc75c0c",
      "d11ef568d643450eb53c797ead411e78",
      "3146a7afd0224148912cc4cccfea4f0d",
      "35f09fb7411b4ea399bb382f9162912a",
      "b2a5a915fd4345efb2beedc2c5791dff",
      "71b3db77bfd84d8f85a22dfb8a9547f2",
      "b79d7bd3de90499a9cf89426037dd197",
      "791b18d1ac894b75bc76f6abccc7f37d",
      "aa18650329db4639ab48e7594790d0f6",
      "134745b51019412db37a24d739629bb0",
      "912ed79622014c4d8e065855a23b611c",
      "c8dec46901ba43ce8f831ab56b343c23",
      "bdf31caec2344df887c3b11890eb26dd",
      "34b39531838549e589085fa95f082291"
     ]
    },
    "colab_type": "code",
    "id": "F6WmTvl6SPyO",
    "outputId": "a03333bf-6abd-4c47-fcf7-b0f57a64bd01"
   },
   "outputs": [],
   "source": [
    "# Read in the document emebddings\n",
    "train_embeddings, test_embeddings = [], []\n",
    "with open('/Users/johngiorgi/Downloads/train_predictions.jsonl', 'r') as f:\n",
    "    for line in tqdm(f):\n",
    "        train_embeddings.append(json.loads(line)['doc_embeddings'])\n",
    "\n",
    "with open('/Users/johngiorgi/Downloads/valid_predictions.jsonl', 'r') as f:\n",
    "    for line in tqdm(f):\n",
    "        test_embeddings.append(json.loads(line)['doc_embeddings'])\n",
    "\n",
    "# Convert them to torch tensors\n",
    "train_embeddings = torch.as_tensor(train_embeddings)\n",
    "test_embeddings = torch.as_tensor(test_embeddings)\n",
    "\n",
    "# Read in the corresponding document labels\n",
    "train_labels = pathlib.Path('/Users/johngiorgi/Documents/dev/t2t/datasets/biorxiv/train_labels.tsv').read_text().split('\\n')\n",
    "test_labels = pathlib.Path('/Users/johngiorgi/Documents/dev/t2t/datasets/biorxiv/valid_labels.tsv').read_text().split('\\n')\n",
    "\n",
    "# We should have one label per document embedding\n",
    "assert len(train_labels) == train_embeddings.size(0)\n",
    "assert len(test_labels) == test_embeddings.size(0)\n",
    "\n",
    "# TEMP (John): A hack to filter labels down to those that appear in the KATE paper\n",
    "filtered_labels = ['Animal Behavior and Cognition', 'Ecology', 'Bioinformatics', 'Neuroscience', 'Genetics', 'Microbiology']\n",
    "train_embeddings = torch.as_tensor([embedding.tolist() for i, embedding in enumerate(train_embeddings) if train_labels[i] in filtered_labels])\n",
    "train_labels = [label for label in train_labels if label in filtered_labels]"
   ]
  },
  {
   "cell_type": "markdown",
   "metadata": {
    "colab_type": "text",
    "id": "gYyksv4UQy-d"
   },
   "source": [
    "## Qualitative Analysis\n",
    "\n",
    "### PCA\n",
    "\n",
    "Perform dimensionality reduction with PCA and plot the resulting principal components."
   ]
  },
  {
   "cell_type": "code",
   "execution_count": null,
   "metadata": {
    "colab": {},
    "colab_type": "code",
    "id": "Mfo8H3m9RoTk"
   },
   "outputs": [],
   "source": [
    "pca = PCA(n_components=2, random_state=RANDOM_STATE)\n",
    "principal_components = pca.fit_transform(train_embeddings.cpu().numpy())\n",
    "pca_df = pd.DataFrame({'pc_1': principal_components[:, 0], 'pc_2': principal_components[:, 1], 'labels': train_labels})"
   ]
  },
  {
   "cell_type": "code",
   "execution_count": null,
   "metadata": {
    "colab": {
     "base_uri": "https://localhost:8080/",
     "height": 288
    },
    "colab_type": "code",
    "id": "jvq8lKYYTDkG",
    "outputId": "e245a316-87c9-4c77-c821-bbb9d809ca81"
   },
   "outputs": [],
   "source": [
    "ax = sns.scatterplot(x=\"pc_1\", y=\"pc_2\", hue='labels', data=pca_df, palette='deep')\n",
    "plt.legend(bbox_to_anchor=(1.05, 1), loc=2, borderaxespad=0.)  # move legend outside the plot\n",
    "fig = ax.get_figure()\n",
    "fig.savefig('pca.png', dpi=300)"
   ]
  },
  {
   "cell_type": "markdown",
   "metadata": {
    "colab_type": "text",
    "id": "IRihV8d1aOyi"
   },
   "source": [
    "### TNSE\n",
    "\n",
    "Perform dimensionality reduction with TSNE and plot the resulting vectors (note, this may take a few minutes)."
   ]
  },
  {
   "cell_type": "code",
   "execution_count": null,
   "metadata": {
    "colab": {},
    "colab_type": "code",
    "id": "bjzhMw38ZN2T"
   },
   "outputs": [],
   "source": [
    "tsne = TSNE(n_components=2, random_state=RANDOM_STATE)\n",
    "reduced_dims = tsne.fit_transform(train_embeddings.cpu().numpy())\n",
    "tsne_df = pd.DataFrame({'dim_1': reduced_dims[:, 0], 'dim_2': reduced_dims[:, 1], 'labels': train_labels})"
   ]
  },
  {
   "cell_type": "code",
   "execution_count": null,
   "metadata": {
    "colab": {
     "base_uri": "https://localhost:8080/",
     "height": 365
    },
    "colab_type": "code",
    "id": "IpxSlwuKagC7",
    "outputId": "48f8d294-0ade-47ca-a720-854dae0c08e6"
   },
   "outputs": [],
   "source": [
    "ax = sns.scatterplot(x=\"dim_1\", y=\"dim_2\", hue=\"labels\", data=tsne_df, palette='deep')\n",
    "plt.legend(bbox_to_anchor=(1.05, 1), loc=2, borderaxespad=0.)  # move legend outside the plot\n",
    "fig = ax.get_figure()\n",
    "fig.savefig('tsne.png', dpi=300) "
   ]
  },
  {
   "cell_type": "markdown",
   "metadata": {
    "colab_type": "text",
    "id": "YAdh0_5q7tbE"
   },
   "source": [
    "## Quantitative Analysis"
   ]
  },
  {
   "cell_type": "markdown",
   "metadata": {
    "colab_type": "text",
    "id": "ejIbwJ7e6dmh"
   },
   "source": [
    "## Document Retrival\n",
    "\n",
    "Here, we set up a quantitative evaluation of our document embeddings by using them to perform document retrival. The setup:\n",
    "\n",
    "- Using each document embedding in the test set as a query, perform a search over all document embeddings in the train set (using some vector-based similarity metric).\n",
    "- Compute the average precision as the fraction of retrived documents that belong to the same class as the query document.\n",
    "- Perform the evaluation for multiple fraction sizes and plot the precision curve.\n",
    "\n",
    "First, define the similarity metric. Here, we use cosine similarity.\n",
    "\n"
   ]
  },
  {
   "cell_type": "code",
   "execution_count": null,
   "metadata": {
    "colab": {},
    "colab_type": "code",
    "id": "Wd9Zaefma8hR"
   },
   "outputs": [],
   "source": [
    "sim_metric = torch.nn.CosineSimilarity(-1)"
   ]
  },
  {
   "cell_type": "markdown",
   "metadata": {
    "colab_type": "text",
    "id": "OtAfIP1-7kyU"
   },
   "source": [
    "then perform the search (see [this paper]() for more information)"
   ]
  },
  {
   "cell_type": "code",
   "execution_count": null,
   "metadata": {
    "colab": {
     "base_uri": "https://localhost:8080/",
     "height": 120,
     "referenced_widgets": [
      "f5dfcdb46a35434e991a9ba5470e7354",
      "85e90d45cb6a4b769ea85819264ef2bc",
      "7df6b1b685074306a4dc0afa7ef4dc94",
      "8a6008f876fb4eb0908df673a814eb30",
      "cc2a5ffa0add4c8ba35bc2cbfb26aeef",
      "5ca617c6f64b4c6888d69b2ac2369762",
      "7b36c09f568e4facbaef8bcb686bf180",
      "329042f9c93b440ca0e2f885d36d4bf7",
      "e30ce93535594883b1951f8ef19f6279",
      "57340bf61a7d4138adf4f660a1cba1c4",
      "80bf35ab92884c35922e20a97146e5b2",
      "d5f8be4fd9a640078d00f772a3ab6a5c",
      "4c545eb8620348a8b70e496f1551f94f",
      "2422e3db8dff4aa6bd8ba87ddf837008",
      "29b41fb4f0dd4edf86cc27c7dc781c74",
      "7d410b3f0ed44aed98fbf92298da3166"
     ]
    },
    "colab_type": "code",
    "id": "hHSri3eOascl",
    "outputId": "0f0fa24a-ea72-499a-a3dd-61ea9ac5e236"
   },
   "outputs": [],
   "source": [
    "retrived_docs = []  # Tuples of query labels and indices of retrived indices\n",
    "precision = []      # Per fraction precision scores\n",
    "\n",
    "# Fractions to evaluate the average precision at\n",
    "fractions = [0.001, 0.002, 0.005, 0.01, 0.02, 0.05, 0.1, 0.2, 0.5, 1.0]\n",
    "\n",
    "# Using each item in the test set as a query, perform a search over the train set\n",
    "for query, label in tqdm(\n",
    "        zip(test_embeddings, test_labels), \n",
    "        total=test_embeddings.size(0), \n",
    "        desc='Performing document retrival'\n",
    "    ):\n",
    "    similarity_scores = sim_metric(query, train_embeddings)\n",
    "    retrived_indices = torch.sort(similarity_scores, descending=True)[-1].tolist()\n",
    "    retrived_docs.append((label, retrived_indices))\n",
    "\n",
    "# Evaluate the average precision according to document class for each fraction of retrived documents\n",
    "for fraction in tqdm(fractions, desc='Evaluating retrived documents'):\n",
    "    precision.append(0)\n",
    "    num_docs_to_retrive = int(fraction * train_embeddings.size(0))\n",
    "    for label, indices in retrived_docs:\n",
    "        top_retrived = indices[:num_docs_to_retrive]\n",
    "        precision[-1] += (sum([1 if train_labels[idx] == label else 0 for idx in top_retrived]) / \n",
    "                          len(top_retrived))\n",
    "    \n",
    "    precision[-1] /= test_embeddings.size(0)"
   ]
  },
  {
   "cell_type": "markdown",
   "metadata": {
    "colab_type": "text",
    "id": "tjdXeT5R7nkk"
   },
   "source": [
    "and finally, plot the precision curve"
   ]
  },
  {
   "cell_type": "code",
   "execution_count": null,
   "metadata": {
    "colab": {
     "base_uri": "https://localhost:8080/",
     "height": 363
    },
    "colab_type": "code",
    "id": "_ahLhndqfEzy",
    "outputId": "07d6c558-5f54-4fe3-d778-ea51d71eec79"
   },
   "outputs": [],
   "source": [
    "doc_retrival_results = {'fraction': fractions, 'precision': precision}\n",
    "doc_retrival_df = pd.DataFrame(doc_retrival_results)"
   ]
  },
  {
   "cell_type": "code",
   "execution_count": null,
   "metadata": {
    "colab": {
     "base_uri": "https://localhost:8080/",
     "height": 285
    },
    "colab_type": "code",
    "id": "0NxaVjCanyv_",
    "outputId": "b7fd4372-b5c7-4452-81e4-4ecfe1c2c4a1"
   },
   "outputs": [],
   "source": [
    "_ = sns.pointplot(x='fraction', y='precision', data=doc_retrival_df)"
   ]
  }
 ],
 "metadata": {
  "accelerator": "GPU",
  "colab": {
   "collapsed_sections": [],
   "name": "t2t_evaluation.ipynb",
   "provenance": [],
   "toc_visible": true
  },
  "kernelspec": {
   "display_name": "Python [conda env:t2t] *",
   "language": "python",
   "name": "conda-env-t2t-py"
  },
  "language_info": {
   "codemirror_mode": {
    "name": "ipython",
    "version": 3
   },
   "file_extension": ".py",
   "mimetype": "text/x-python",
   "name": "python",
   "nbconvert_exporter": "python",
   "pygments_lexer": "ipython3",
   "version": "3.7.5"
  },
  "widgets": {
   "application/vnd.jupyter.widget-state+json": {
    "134745b51019412db37a24d739629bb0": {
     "model_module": "@jupyter-widgets/controls",
     "model_name": "HTMLModel",
     "state": {
      "_dom_classes": [],
      "_model_module": "@jupyter-widgets/controls",
      "_model_module_version": "1.5.0",
      "_model_name": "HTMLModel",
      "_view_count": null,
      "_view_module": "@jupyter-widgets/controls",
      "_view_module_version": "1.5.0",
      "_view_name": "HTMLView",
      "description": "",
      "description_tooltip": null,
      "layout": "IPY_MODEL_34b39531838549e589085fa95f082291",
      "placeholder": "​",
      "style": "IPY_MODEL_bdf31caec2344df887c3b11890eb26dd",
      "value": "1130it [00:00, 1994.78it/s]"
     }
    },
    "2422e3db8dff4aa6bd8ba87ddf837008": {
     "model_module": "@jupyter-widgets/base",
     "model_name": "LayoutModel",
     "state": {
      "_model_module": "@jupyter-widgets/base",
      "_model_module_version": "1.2.0",
      "_model_name": "LayoutModel",
      "_view_count": null,
      "_view_module": "@jupyter-widgets/base",
      "_view_module_version": "1.2.0",
      "_view_name": "LayoutView",
      "align_content": null,
      "align_items": null,
      "align_self": null,
      "border": null,
      "bottom": null,
      "display": null,
      "flex": null,
      "flex_flow": null,
      "grid_area": null,
      "grid_auto_columns": null,
      "grid_auto_flow": null,
      "grid_auto_rows": null,
      "grid_column": null,
      "grid_gap": null,
      "grid_row": null,
      "grid_template_areas": null,
      "grid_template_columns": null,
      "grid_template_rows": null,
      "height": null,
      "justify_content": null,
      "justify_items": null,
      "left": null,
      "margin": null,
      "max_height": null,
      "max_width": null,
      "min_height": null,
      "min_width": null,
      "object_fit": null,
      "object_position": null,
      "order": null,
      "overflow": null,
      "overflow_x": null,
      "overflow_y": null,
      "padding": null,
      "right": null,
      "top": null,
      "visibility": null,
      "width": null
     }
    },
    "29b41fb4f0dd4edf86cc27c7dc781c74": {
     "model_module": "@jupyter-widgets/controls",
     "model_name": "DescriptionStyleModel",
     "state": {
      "_model_module": "@jupyter-widgets/controls",
      "_model_module_version": "1.5.0",
      "_model_name": "DescriptionStyleModel",
      "_view_count": null,
      "_view_module": "@jupyter-widgets/base",
      "_view_module_version": "1.2.0",
      "_view_name": "StyleView",
      "description_width": ""
     }
    },
    "3146a7afd0224148912cc4cccfea4f0d": {
     "model_module": "@jupyter-widgets/controls",
     "model_name": "ProgressStyleModel",
     "state": {
      "_model_module": "@jupyter-widgets/controls",
      "_model_module_version": "1.5.0",
      "_model_name": "ProgressStyleModel",
      "_view_count": null,
      "_view_module": "@jupyter-widgets/base",
      "_view_module_version": "1.2.0",
      "_view_name": "StyleView",
      "bar_color": null,
      "description_width": ""
     }
    },
    "329042f9c93b440ca0e2f885d36d4bf7": {
     "model_module": "@jupyter-widgets/base",
     "model_name": "LayoutModel",
     "state": {
      "_model_module": "@jupyter-widgets/base",
      "_model_module_version": "1.2.0",
      "_model_name": "LayoutModel",
      "_view_count": null,
      "_view_module": "@jupyter-widgets/base",
      "_view_module_version": "1.2.0",
      "_view_name": "LayoutView",
      "align_content": null,
      "align_items": null,
      "align_self": null,
      "border": null,
      "bottom": null,
      "display": null,
      "flex": null,
      "flex_flow": null,
      "grid_area": null,
      "grid_auto_columns": null,
      "grid_auto_flow": null,
      "grid_auto_rows": null,
      "grid_column": null,
      "grid_gap": null,
      "grid_row": null,
      "grid_template_areas": null,
      "grid_template_columns": null,
      "grid_template_rows": null,
      "height": null,
      "justify_content": null,
      "justify_items": null,
      "left": null,
      "margin": null,
      "max_height": null,
      "max_width": null,
      "min_height": null,
      "min_width": null,
      "object_fit": null,
      "object_position": null,
      "order": null,
      "overflow": null,
      "overflow_x": null,
      "overflow_y": null,
      "padding": null,
      "right": null,
      "top": null,
      "visibility": null,
      "width": null
     }
    },
    "34b39531838549e589085fa95f082291": {
     "model_module": "@jupyter-widgets/base",
     "model_name": "LayoutModel",
     "state": {
      "_model_module": "@jupyter-widgets/base",
      "_model_module_version": "1.2.0",
      "_model_name": "LayoutModel",
      "_view_count": null,
      "_view_module": "@jupyter-widgets/base",
      "_view_module_version": "1.2.0",
      "_view_name": "LayoutView",
      "align_content": null,
      "align_items": null,
      "align_self": null,
      "border": null,
      "bottom": null,
      "display": null,
      "flex": null,
      "flex_flow": null,
      "grid_area": null,
      "grid_auto_columns": null,
      "grid_auto_flow": null,
      "grid_auto_rows": null,
      "grid_column": null,
      "grid_gap": null,
      "grid_row": null,
      "grid_template_areas": null,
      "grid_template_columns": null,
      "grid_template_rows": null,
      "height": null,
      "justify_content": null,
      "justify_items": null,
      "left": null,
      "margin": null,
      "max_height": null,
      "max_width": null,
      "min_height": null,
      "min_width": null,
      "object_fit": null,
      "object_position": null,
      "order": null,
      "overflow": null,
      "overflow_x": null,
      "overflow_y": null,
      "padding": null,
      "right": null,
      "top": null,
      "visibility": null,
      "width": null
     }
    },
    "35f09fb7411b4ea399bb382f9162912a": {
     "model_module": "@jupyter-widgets/base",
     "model_name": "LayoutModel",
     "state": {
      "_model_module": "@jupyter-widgets/base",
      "_model_module_version": "1.2.0",
      "_model_name": "LayoutModel",
      "_view_count": null,
      "_view_module": "@jupyter-widgets/base",
      "_view_module_version": "1.2.0",
      "_view_name": "LayoutView",
      "align_content": null,
      "align_items": null,
      "align_self": null,
      "border": null,
      "bottom": null,
      "display": null,
      "flex": null,
      "flex_flow": null,
      "grid_area": null,
      "grid_auto_columns": null,
      "grid_auto_flow": null,
      "grid_auto_rows": null,
      "grid_column": null,
      "grid_gap": null,
      "grid_row": null,
      "grid_template_areas": null,
      "grid_template_columns": null,
      "grid_template_rows": null,
      "height": null,
      "justify_content": null,
      "justify_items": null,
      "left": null,
      "margin": null,
      "max_height": null,
      "max_width": null,
      "min_height": null,
      "min_width": null,
      "object_fit": null,
      "object_position": null,
      "order": null,
      "overflow": null,
      "overflow_x": null,
      "overflow_y": null,
      "padding": null,
      "right": null,
      "top": null,
      "visibility": null,
      "width": null
     }
    },
    "419c66c05fb34b5c8541957b3fc75c0c": {
     "model_module": "@jupyter-widgets/controls",
     "model_name": "IntProgressModel",
     "state": {
      "_dom_classes": [],
      "_model_module": "@jupyter-widgets/controls",
      "_model_module_version": "1.5.0",
      "_model_name": "IntProgressModel",
      "_view_count": null,
      "_view_module": "@jupyter-widgets/controls",
      "_view_module_version": "1.5.0",
      "_view_name": "ProgressView",
      "bar_style": "success",
      "description": "",
      "description_tooltip": null,
      "layout": "IPY_MODEL_35f09fb7411b4ea399bb382f9162912a",
      "max": 1,
      "min": 0,
      "orientation": "horizontal",
      "style": "IPY_MODEL_3146a7afd0224148912cc4cccfea4f0d",
      "value": 1
     }
    },
    "4c545eb8620348a8b70e496f1551f94f": {
     "model_module": "@jupyter-widgets/controls",
     "model_name": "ProgressStyleModel",
     "state": {
      "_model_module": "@jupyter-widgets/controls",
      "_model_module_version": "1.5.0",
      "_model_name": "ProgressStyleModel",
      "_view_count": null,
      "_view_module": "@jupyter-widgets/base",
      "_view_module_version": "1.2.0",
      "_view_name": "StyleView",
      "bar_color": null,
      "description_width": "initial"
     }
    },
    "57340bf61a7d4138adf4f660a1cba1c4": {
     "model_module": "@jupyter-widgets/base",
     "model_name": "LayoutModel",
     "state": {
      "_model_module": "@jupyter-widgets/base",
      "_model_module_version": "1.2.0",
      "_model_name": "LayoutModel",
      "_view_count": null,
      "_view_module": "@jupyter-widgets/base",
      "_view_module_version": "1.2.0",
      "_view_name": "LayoutView",
      "align_content": null,
      "align_items": null,
      "align_self": null,
      "border": null,
      "bottom": null,
      "display": null,
      "flex": null,
      "flex_flow": null,
      "grid_area": null,
      "grid_auto_columns": null,
      "grid_auto_flow": null,
      "grid_auto_rows": null,
      "grid_column": null,
      "grid_gap": null,
      "grid_row": null,
      "grid_template_areas": null,
      "grid_template_columns": null,
      "grid_template_rows": null,
      "height": null,
      "justify_content": null,
      "justify_items": null,
      "left": null,
      "margin": null,
      "max_height": null,
      "max_width": null,
      "min_height": null,
      "min_width": null,
      "object_fit": null,
      "object_position": null,
      "order": null,
      "overflow": null,
      "overflow_x": null,
      "overflow_y": null,
      "padding": null,
      "right": null,
      "top": null,
      "visibility": null,
      "width": null
     }
    },
    "5ca617c6f64b4c6888d69b2ac2369762": {
     "model_module": "@jupyter-widgets/base",
     "model_name": "LayoutModel",
     "state": {
      "_model_module": "@jupyter-widgets/base",
      "_model_module_version": "1.2.0",
      "_model_name": "LayoutModel",
      "_view_count": null,
      "_view_module": "@jupyter-widgets/base",
      "_view_module_version": "1.2.0",
      "_view_name": "LayoutView",
      "align_content": null,
      "align_items": null,
      "align_self": null,
      "border": null,
      "bottom": null,
      "display": null,
      "flex": null,
      "flex_flow": null,
      "grid_area": null,
      "grid_auto_columns": null,
      "grid_auto_flow": null,
      "grid_auto_rows": null,
      "grid_column": null,
      "grid_gap": null,
      "grid_row": null,
      "grid_template_areas": null,
      "grid_template_columns": null,
      "grid_template_rows": null,
      "height": null,
      "justify_content": null,
      "justify_items": null,
      "left": null,
      "margin": null,
      "max_height": null,
      "max_width": null,
      "min_height": null,
      "min_width": null,
      "object_fit": null,
      "object_position": null,
      "order": null,
      "overflow": null,
      "overflow_x": null,
      "overflow_y": null,
      "padding": null,
      "right": null,
      "top": null,
      "visibility": null,
      "width": null
     }
    },
    "71b3db77bfd84d8f85a22dfb8a9547f2": {
     "model_module": "@jupyter-widgets/base",
     "model_name": "LayoutModel",
     "state": {
      "_model_module": "@jupyter-widgets/base",
      "_model_module_version": "1.2.0",
      "_model_name": "LayoutModel",
      "_view_count": null,
      "_view_module": "@jupyter-widgets/base",
      "_view_module_version": "1.2.0",
      "_view_name": "LayoutView",
      "align_content": null,
      "align_items": null,
      "align_self": null,
      "border": null,
      "bottom": null,
      "display": null,
      "flex": null,
      "flex_flow": null,
      "grid_area": null,
      "grid_auto_columns": null,
      "grid_auto_flow": null,
      "grid_auto_rows": null,
      "grid_column": null,
      "grid_gap": null,
      "grid_row": null,
      "grid_template_areas": null,
      "grid_template_columns": null,
      "grid_template_rows": null,
      "height": null,
      "justify_content": null,
      "justify_items": null,
      "left": null,
      "margin": null,
      "max_height": null,
      "max_width": null,
      "min_height": null,
      "min_width": null,
      "object_fit": null,
      "object_position": null,
      "order": null,
      "overflow": null,
      "overflow_x": null,
      "overflow_y": null,
      "padding": null,
      "right": null,
      "top": null,
      "visibility": null,
      "width": null
     }
    },
    "791b18d1ac894b75bc76f6abccc7f37d": {
     "model_module": "@jupyter-widgets/base",
     "model_name": "LayoutModel",
     "state": {
      "_model_module": "@jupyter-widgets/base",
      "_model_module_version": "1.2.0",
      "_model_name": "LayoutModel",
      "_view_count": null,
      "_view_module": "@jupyter-widgets/base",
      "_view_module_version": "1.2.0",
      "_view_name": "LayoutView",
      "align_content": null,
      "align_items": null,
      "align_self": null,
      "border": null,
      "bottom": null,
      "display": null,
      "flex": null,
      "flex_flow": null,
      "grid_area": null,
      "grid_auto_columns": null,
      "grid_auto_flow": null,
      "grid_auto_rows": null,
      "grid_column": null,
      "grid_gap": null,
      "grid_row": null,
      "grid_template_areas": null,
      "grid_template_columns": null,
      "grid_template_rows": null,
      "height": null,
      "justify_content": null,
      "justify_items": null,
      "left": null,
      "margin": null,
      "max_height": null,
      "max_width": null,
      "min_height": null,
      "min_width": null,
      "object_fit": null,
      "object_position": null,
      "order": null,
      "overflow": null,
      "overflow_x": null,
      "overflow_y": null,
      "padding": null,
      "right": null,
      "top": null,
      "visibility": null,
      "width": null
     }
    },
    "7b36c09f568e4facbaef8bcb686bf180": {
     "model_module": "@jupyter-widgets/controls",
     "model_name": "DescriptionStyleModel",
     "state": {
      "_model_module": "@jupyter-widgets/controls",
      "_model_module_version": "1.5.0",
      "_model_name": "DescriptionStyleModel",
      "_view_count": null,
      "_view_module": "@jupyter-widgets/base",
      "_view_module_version": "1.2.0",
      "_view_name": "StyleView",
      "description_width": ""
     }
    },
    "7d410b3f0ed44aed98fbf92298da3166": {
     "model_module": "@jupyter-widgets/base",
     "model_name": "LayoutModel",
     "state": {
      "_model_module": "@jupyter-widgets/base",
      "_model_module_version": "1.2.0",
      "_model_name": "LayoutModel",
      "_view_count": null,
      "_view_module": "@jupyter-widgets/base",
      "_view_module_version": "1.2.0",
      "_view_name": "LayoutView",
      "align_content": null,
      "align_items": null,
      "align_self": null,
      "border": null,
      "bottom": null,
      "display": null,
      "flex": null,
      "flex_flow": null,
      "grid_area": null,
      "grid_auto_columns": null,
      "grid_auto_flow": null,
      "grid_auto_rows": null,
      "grid_column": null,
      "grid_gap": null,
      "grid_row": null,
      "grid_template_areas": null,
      "grid_template_columns": null,
      "grid_template_rows": null,
      "height": null,
      "justify_content": null,
      "justify_items": null,
      "left": null,
      "margin": null,
      "max_height": null,
      "max_width": null,
      "min_height": null,
      "min_width": null,
      "object_fit": null,
      "object_position": null,
      "order": null,
      "overflow": null,
      "overflow_x": null,
      "overflow_y": null,
      "padding": null,
      "right": null,
      "top": null,
      "visibility": null,
      "width": null
     }
    },
    "7df6b1b685074306a4dc0afa7ef4dc94": {
     "model_module": "@jupyter-widgets/controls",
     "model_name": "IntProgressModel",
     "state": {
      "_dom_classes": [],
      "_model_module": "@jupyter-widgets/controls",
      "_model_module_version": "1.5.0",
      "_model_name": "IntProgressModel",
      "_view_count": null,
      "_view_module": "@jupyter-widgets/controls",
      "_view_module_version": "1.5.0",
      "_view_name": "ProgressView",
      "bar_style": "success",
      "description": "Performing document retrival",
      "description_tooltip": null,
      "layout": "IPY_MODEL_5ca617c6f64b4c6888d69b2ac2369762",
      "max": 1130,
      "min": 0,
      "orientation": "horizontal",
      "style": "IPY_MODEL_cc2a5ffa0add4c8ba35bc2cbfb26aeef",
      "value": 1130
     }
    },
    "80bf35ab92884c35922e20a97146e5b2": {
     "model_module": "@jupyter-widgets/controls",
     "model_name": "IntProgressModel",
     "state": {
      "_dom_classes": [],
      "_model_module": "@jupyter-widgets/controls",
      "_model_module_version": "1.5.0",
      "_model_name": "IntProgressModel",
      "_view_count": null,
      "_view_module": "@jupyter-widgets/controls",
      "_view_module_version": "1.5.0",
      "_view_name": "ProgressView",
      "bar_style": "success",
      "description": "Evaluating retrived documents",
      "description_tooltip": null,
      "layout": "IPY_MODEL_2422e3db8dff4aa6bd8ba87ddf837008",
      "max": 10,
      "min": 0,
      "orientation": "horizontal",
      "style": "IPY_MODEL_4c545eb8620348a8b70e496f1551f94f",
      "value": 10
     }
    },
    "85e90d45cb6a4b769ea85819264ef2bc": {
     "model_module": "@jupyter-widgets/base",
     "model_name": "LayoutModel",
     "state": {
      "_model_module": "@jupyter-widgets/base",
      "_model_module_version": "1.2.0",
      "_model_name": "LayoutModel",
      "_view_count": null,
      "_view_module": "@jupyter-widgets/base",
      "_view_module_version": "1.2.0",
      "_view_name": "LayoutView",
      "align_content": null,
      "align_items": null,
      "align_self": null,
      "border": null,
      "bottom": null,
      "display": null,
      "flex": null,
      "flex_flow": null,
      "grid_area": null,
      "grid_auto_columns": null,
      "grid_auto_flow": null,
      "grid_auto_rows": null,
      "grid_column": null,
      "grid_gap": null,
      "grid_row": null,
      "grid_template_areas": null,
      "grid_template_columns": null,
      "grid_template_rows": null,
      "height": null,
      "justify_content": null,
      "justify_items": null,
      "left": null,
      "margin": null,
      "max_height": null,
      "max_width": null,
      "min_height": null,
      "min_width": null,
      "object_fit": null,
      "object_position": null,
      "order": null,
      "overflow": null,
      "overflow_x": null,
      "overflow_y": null,
      "padding": null,
      "right": null,
      "top": null,
      "visibility": null,
      "width": null
     }
    },
    "87913a4398b847efb86abe5817a3eea2": {
     "model_module": "@jupyter-widgets/controls",
     "model_name": "HBoxModel",
     "state": {
      "_dom_classes": [],
      "_model_module": "@jupyter-widgets/controls",
      "_model_module_version": "1.5.0",
      "_model_name": "HBoxModel",
      "_view_count": null,
      "_view_module": "@jupyter-widgets/controls",
      "_view_module_version": "1.5.0",
      "_view_name": "HBoxView",
      "box_style": "",
      "children": [
       "IPY_MODEL_419c66c05fb34b5c8541957b3fc75c0c",
       "IPY_MODEL_d11ef568d643450eb53c797ead411e78"
      ],
      "layout": "IPY_MODEL_ec5d3d6c1b274bbd9fb071c1b44d32e2"
     }
    },
    "8a6008f876fb4eb0908df673a814eb30": {
     "model_module": "@jupyter-widgets/controls",
     "model_name": "HTMLModel",
     "state": {
      "_dom_classes": [],
      "_model_module": "@jupyter-widgets/controls",
      "_model_module_version": "1.5.0",
      "_model_name": "HTMLModel",
      "_view_count": null,
      "_view_module": "@jupyter-widgets/controls",
      "_view_module_version": "1.5.0",
      "_view_name": "HTMLView",
      "description": "",
      "description_tooltip": null,
      "layout": "IPY_MODEL_329042f9c93b440ca0e2f885d36d4bf7",
      "placeholder": "​",
      "style": "IPY_MODEL_7b36c09f568e4facbaef8bcb686bf180",
      "value": "100% 1130/1130 [00:01&lt;00:00, 751.32it/s]"
     }
    },
    "912ed79622014c4d8e065855a23b611c": {
     "model_module": "@jupyter-widgets/controls",
     "model_name": "ProgressStyleModel",
     "state": {
      "_model_module": "@jupyter-widgets/controls",
      "_model_module_version": "1.5.0",
      "_model_name": "ProgressStyleModel",
      "_view_count": null,
      "_view_module": "@jupyter-widgets/base",
      "_view_module_version": "1.2.0",
      "_view_name": "StyleView",
      "bar_color": null,
      "description_width": ""
     }
    },
    "aa18650329db4639ab48e7594790d0f6": {
     "model_module": "@jupyter-widgets/controls",
     "model_name": "IntProgressModel",
     "state": {
      "_dom_classes": [],
      "_model_module": "@jupyter-widgets/controls",
      "_model_module_version": "1.5.0",
      "_model_name": "IntProgressModel",
      "_view_count": null,
      "_view_module": "@jupyter-widgets/controls",
      "_view_module_version": "1.5.0",
      "_view_name": "ProgressView",
      "bar_style": "success",
      "description": "",
      "description_tooltip": null,
      "layout": "IPY_MODEL_c8dec46901ba43ce8f831ab56b343c23",
      "max": 1,
      "min": 0,
      "orientation": "horizontal",
      "style": "IPY_MODEL_912ed79622014c4d8e065855a23b611c",
      "value": 1
     }
    },
    "b2a5a915fd4345efb2beedc2c5791dff": {
     "model_module": "@jupyter-widgets/controls",
     "model_name": "DescriptionStyleModel",
     "state": {
      "_model_module": "@jupyter-widgets/controls",
      "_model_module_version": "1.5.0",
      "_model_name": "DescriptionStyleModel",
      "_view_count": null,
      "_view_module": "@jupyter-widgets/base",
      "_view_module_version": "1.2.0",
      "_view_name": "StyleView",
      "description_width": ""
     }
    },
    "b79d7bd3de90499a9cf89426037dd197": {
     "model_module": "@jupyter-widgets/controls",
     "model_name": "HBoxModel",
     "state": {
      "_dom_classes": [],
      "_model_module": "@jupyter-widgets/controls",
      "_model_module_version": "1.5.0",
      "_model_name": "HBoxModel",
      "_view_count": null,
      "_view_module": "@jupyter-widgets/controls",
      "_view_module_version": "1.5.0",
      "_view_name": "HBoxView",
      "box_style": "",
      "children": [
       "IPY_MODEL_aa18650329db4639ab48e7594790d0f6",
       "IPY_MODEL_134745b51019412db37a24d739629bb0"
      ],
      "layout": "IPY_MODEL_791b18d1ac894b75bc76f6abccc7f37d"
     }
    },
    "bdf31caec2344df887c3b11890eb26dd": {
     "model_module": "@jupyter-widgets/controls",
     "model_name": "DescriptionStyleModel",
     "state": {
      "_model_module": "@jupyter-widgets/controls",
      "_model_module_version": "1.5.0",
      "_model_name": "DescriptionStyleModel",
      "_view_count": null,
      "_view_module": "@jupyter-widgets/base",
      "_view_module_version": "1.2.0",
      "_view_name": "StyleView",
      "description_width": ""
     }
    },
    "c8dec46901ba43ce8f831ab56b343c23": {
     "model_module": "@jupyter-widgets/base",
     "model_name": "LayoutModel",
     "state": {
      "_model_module": "@jupyter-widgets/base",
      "_model_module_version": "1.2.0",
      "_model_name": "LayoutModel",
      "_view_count": null,
      "_view_module": "@jupyter-widgets/base",
      "_view_module_version": "1.2.0",
      "_view_name": "LayoutView",
      "align_content": null,
      "align_items": null,
      "align_self": null,
      "border": null,
      "bottom": null,
      "display": null,
      "flex": null,
      "flex_flow": null,
      "grid_area": null,
      "grid_auto_columns": null,
      "grid_auto_flow": null,
      "grid_auto_rows": null,
      "grid_column": null,
      "grid_gap": null,
      "grid_row": null,
      "grid_template_areas": null,
      "grid_template_columns": null,
      "grid_template_rows": null,
      "height": null,
      "justify_content": null,
      "justify_items": null,
      "left": null,
      "margin": null,
      "max_height": null,
      "max_width": null,
      "min_height": null,
      "min_width": null,
      "object_fit": null,
      "object_position": null,
      "order": null,
      "overflow": null,
      "overflow_x": null,
      "overflow_y": null,
      "padding": null,
      "right": null,
      "top": null,
      "visibility": null,
      "width": null
     }
    },
    "cc2a5ffa0add4c8ba35bc2cbfb26aeef": {
     "model_module": "@jupyter-widgets/controls",
     "model_name": "ProgressStyleModel",
     "state": {
      "_model_module": "@jupyter-widgets/controls",
      "_model_module_version": "1.5.0",
      "_model_name": "ProgressStyleModel",
      "_view_count": null,
      "_view_module": "@jupyter-widgets/base",
      "_view_module_version": "1.2.0",
      "_view_name": "StyleView",
      "bar_color": null,
      "description_width": "initial"
     }
    },
    "d11ef568d643450eb53c797ead411e78": {
     "model_module": "@jupyter-widgets/controls",
     "model_name": "HTMLModel",
     "state": {
      "_dom_classes": [],
      "_model_module": "@jupyter-widgets/controls",
      "_model_module_version": "1.5.0",
      "_model_name": "HTMLModel",
      "_view_count": null,
      "_view_module": "@jupyter-widgets/controls",
      "_view_module_version": "1.5.0",
      "_view_name": "HTMLView",
      "description": "",
      "description_tooltip": null,
      "layout": "IPY_MODEL_71b3db77bfd84d8f85a22dfb8a9547f2",
      "placeholder": "​",
      "style": "IPY_MODEL_b2a5a915fd4345efb2beedc2c5791dff",
      "value": "10163it [00:04, 2037.93it/s]"
     }
    },
    "d5f8be4fd9a640078d00f772a3ab6a5c": {
     "model_module": "@jupyter-widgets/controls",
     "model_name": "HTMLModel",
     "state": {
      "_dom_classes": [],
      "_model_module": "@jupyter-widgets/controls",
      "_model_module_version": "1.5.0",
      "_model_name": "HTMLModel",
      "_view_count": null,
      "_view_module": "@jupyter-widgets/controls",
      "_view_module_version": "1.5.0",
      "_view_name": "HTMLView",
      "description": "",
      "description_tooltip": null,
      "layout": "IPY_MODEL_7d410b3f0ed44aed98fbf92298da3166",
      "placeholder": "​",
      "style": "IPY_MODEL_29b41fb4f0dd4edf86cc27c7dc781c74",
      "value": "100% 10/10 [00:02&lt;00:00,  1.90it/s]"
     }
    },
    "e30ce93535594883b1951f8ef19f6279": {
     "model_module": "@jupyter-widgets/controls",
     "model_name": "HBoxModel",
     "state": {
      "_dom_classes": [],
      "_model_module": "@jupyter-widgets/controls",
      "_model_module_version": "1.5.0",
      "_model_name": "HBoxModel",
      "_view_count": null,
      "_view_module": "@jupyter-widgets/controls",
      "_view_module_version": "1.5.0",
      "_view_name": "HBoxView",
      "box_style": "",
      "children": [
       "IPY_MODEL_80bf35ab92884c35922e20a97146e5b2",
       "IPY_MODEL_d5f8be4fd9a640078d00f772a3ab6a5c"
      ],
      "layout": "IPY_MODEL_57340bf61a7d4138adf4f660a1cba1c4"
     }
    },
    "ec5d3d6c1b274bbd9fb071c1b44d32e2": {
     "model_module": "@jupyter-widgets/base",
     "model_name": "LayoutModel",
     "state": {
      "_model_module": "@jupyter-widgets/base",
      "_model_module_version": "1.2.0",
      "_model_name": "LayoutModel",
      "_view_count": null,
      "_view_module": "@jupyter-widgets/base",
      "_view_module_version": "1.2.0",
      "_view_name": "LayoutView",
      "align_content": null,
      "align_items": null,
      "align_self": null,
      "border": null,
      "bottom": null,
      "display": null,
      "flex": null,
      "flex_flow": null,
      "grid_area": null,
      "grid_auto_columns": null,
      "grid_auto_flow": null,
      "grid_auto_rows": null,
      "grid_column": null,
      "grid_gap": null,
      "grid_row": null,
      "grid_template_areas": null,
      "grid_template_columns": null,
      "grid_template_rows": null,
      "height": null,
      "justify_content": null,
      "justify_items": null,
      "left": null,
      "margin": null,
      "max_height": null,
      "max_width": null,
      "min_height": null,
      "min_width": null,
      "object_fit": null,
      "object_position": null,
      "order": null,
      "overflow": null,
      "overflow_x": null,
      "overflow_y": null,
      "padding": null,
      "right": null,
      "top": null,
      "visibility": null,
      "width": null
     }
    },
    "f5dfcdb46a35434e991a9ba5470e7354": {
     "model_module": "@jupyter-widgets/controls",
     "model_name": "HBoxModel",
     "state": {
      "_dom_classes": [],
      "_model_module": "@jupyter-widgets/controls",
      "_model_module_version": "1.5.0",
      "_model_name": "HBoxModel",
      "_view_count": null,
      "_view_module": "@jupyter-widgets/controls",
      "_view_module_version": "1.5.0",
      "_view_name": "HBoxView",
      "box_style": "",
      "children": [
       "IPY_MODEL_7df6b1b685074306a4dc0afa7ef4dc94",
       "IPY_MODEL_8a6008f876fb4eb0908df673a814eb30"
      ],
      "layout": "IPY_MODEL_85e90d45cb6a4b769ea85819264ef2bc"
     }
    }
   }
  }
 },
 "nbformat": 4,
 "nbformat_minor": 4
}
