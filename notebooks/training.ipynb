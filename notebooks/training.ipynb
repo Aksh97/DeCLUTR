{
  "nbformat": 4,
  "nbformat_minor": 0,
  "metadata": {
    "colab": {
      "name": "training.ipynb",
      "provenance": [],
      "private_outputs": true,
      "collapsed_sections": [],
      "toc_visible": true
    },
    "kernelspec": {
      "name": "python3",
      "display_name": "Python 3"
    },
    "accelerator": "GPU"
  },
  "cells": [
    {
      "cell_type": "markdown",
      "metadata": {
        "id": "I8jt6ML03DS5",
        "colab_type": "text"
      },
      "source": [
        "# Training your own model\n",
        "\n",
        "This notebook will walk you through training your own model using [DeCLUTR](https://github.com/JohnGiorgi/DeCLUTR)."
      ]
    },
    {
      "cell_type": "markdown",
      "metadata": {
        "id": "SU3Iod2-g0-o",
        "colab_type": "text"
      },
      "source": [
        "## 🔧 Install the prerequisites"
      ]
    },
    {
      "cell_type": "code",
      "metadata": {
        "id": "sr4r5pN40Kli",
        "colab_type": "code",
        "colab": {}
      },
      "source": [
        "!git clone https://github.com/JohnGiorgi/DeCLUTR.git\n",
        "!pip install --editable DeCLUTR"
      ],
      "execution_count": null,
      "outputs": []
    },
    {
      "cell_type": "markdown",
      "metadata": {
        "id": "hNkeMf-o3dfu",
        "colab_type": "text"
      },
      "source": [
        "For the time being, you will need to install a specific commit of [AllenNLP](https://allennlp.org/)."
      ]
    },
    {
      "cell_type": "code",
      "metadata": {
        "id": "PvJYtVWE3eO-",
        "colab_type": "code",
        "colab": {}
      },
      "source": [
        "!git clone https://github.com/allenai/allennlp.git\n",
        "%cd allennlp\n",
        "!git checkout 9766eb4\n",
        "!pip install -e .\n",
        "%cd ../"
      ],
      "execution_count": null,
      "outputs": []
    },
    {
      "cell_type": "markdown",
      "metadata": {
        "id": "uwnLpUmN4Art",
        "colab_type": "text"
      },
      "source": [
        "\n",
        "A dataset is simply a file containing one item of text (a document, a scientific paper, etc.) per line. For convenience, we have provided a script that will download the [WikiText-103](https://www.salesforce.com/products/einstein/ai-research/the-wikitext-dependency-language-modeling-dataset/) dataset and format it for training with our method.\n",
        "\n",
        "The only \"gotcha\" is that each piece of text needs to be long enough so that we can sample spans from it. In general, you should collect documents of a minimal length according to the following:\n",
        "\n",
        "```python\n",
        "min_length = num_anchors * max_span_len * 2\n",
        "```\n",
        "\n",
        "In our paper, we set `num_anchors=2` and `max_span_len=512`, so we require documents of `min_length=2048`. We simply need to provide this value as an argument when running the script:"
      ]
    },
    {
      "cell_type": "code",
      "metadata": {
        "id": "q0fwnwq23aAZ",
        "colab_type": "code",
        "colab": {}
      },
      "source": [
        "train_data_path = \"/content/wikitext_103/train.txt\"\n",
        "min_length = 2048\n",
        "\n",
        "!python DeCLUTR/scripts/preprocess_wikitext_103.py $train_data_path --min-length $min_length"
      ],
      "execution_count": null,
      "outputs": []
    },
    {
      "cell_type": "markdown",
      "metadata": {
        "id": "jH3JAOBy_5dl",
        "colab_type": "text"
      },
      "source": [
        "By default, [`allennlp train`](https://docs.allennlp.org/master/api/commands/train/) will create a vocabulary for our dataset. Because our model comes with a pretrained vocabulary, we can skip this step by creating the following file under our dataset folder:"
      ]
    },
    {
      "cell_type": "code",
      "metadata": {
        "id": "Gh46STde_OTz",
        "colab_type": "code",
        "colab": {}
      },
      "source": [
        "vocabulary_directory = \"/content/wikitext_103/vocabulary\"\n",
        "!mkdir -p $vocabulary_directory\n",
        "!echo -e \"*tags\\n*labels\" > \"$vocabulary_directory/non_padded_namespaces.txt\""
      ],
      "execution_count": null,
      "outputs": []
    },
    {
      "cell_type": "markdown",
      "metadata": {
        "id": "yUEFeupP6qy-",
        "colab_type": "text"
      },
      "source": [
        "Lets confirm that our dataset looks as expected."
      ]
    },
    {
      "cell_type": "code",
      "metadata": {
        "id": "K7ffGXCn7Cpq",
        "colab_type": "code",
        "colab": {}
      },
      "source": [
        "!wc -l $train_data_path  # This should be approximately 17.8K lines"
      ],
      "execution_count": null,
      "outputs": []
    },
    {
      "cell_type": "code",
      "metadata": {
        "id": "10DprWZc9iV6",
        "colab_type": "code",
        "colab": {}
      },
      "source": [
        "!head -n 1 $train_data_path  # This should be a single Wikipedia entry"
      ],
      "execution_count": null,
      "outputs": []
    },
    {
      "cell_type": "markdown",
      "metadata": {
        "id": "VKYdambZ59nM",
        "colab_type": "text"
      },
      "source": [
        "## 🏃 Training the model\n",
        "\n",
        "Once you have collected the dataset, you can easily initiate a training session with the `allennlp train` command. An experiment is configured using a [Jsonnet](https://jsonnet.org/) config file. DeCLUTR provides a handful of these config files with sensible defaults. Let's look at a simplified config:"
      ]
    },
    {
      "cell_type": "code",
      "metadata": {
        "id": "xTaSExh4ba8e",
        "colab_type": "code",
        "colab": {}
      },
      "source": [
        "with open(\"DeCLUTR/configs/contrastive_simple.jsonnet\", \"r\") as f:\n",
        "    print(f.read())"
      ],
      "execution_count": null,
      "outputs": []
    },
    {
      "cell_type": "markdown",
      "metadata": {
        "id": "-f1HqWSscWOx",
        "colab_type": "text"
      },
      "source": [
        "\n",
        "The only thing to configure is the `train_data_path`, and optionally, the `vocabulary`. Because our vocabulary is pretrained, specifying it here will prevent AllenNLP from trying to construct it again. Here, we will pass both arguments to `allennlp train` via the `--overrides` argument, but you can also provide it in your config file directly:"
      ]
    },
    {
      "cell_type": "code",
      "metadata": {
        "id": "YS9VuxESBcr3",
        "colab_type": "code",
        "colab": {}
      },
      "source": [
        "overrides = (\n",
        "    f\"{{'train_data_path': '{train_data_path}', \"\n",
        "    f\"'vocabulary': {{'type': 'from_files', 'directory': '{vocabulary_directory}'}}}}\"\n",
        ")"
      ],
      "execution_count": null,
      "outputs": []
    },
    {
      "cell_type": "code",
      "metadata": {
        "id": "Db_cNfZ76KRf",
        "colab_type": "code",
        "colab": {}
      },
      "source": [
        "!allennlp train DeCLUTR/configs/contrastive_simple.jsonnet \\\n",
        "    --serialization-dir output \\\n",
        "    --overrides \"$overrides\" \\\n",
        "    --include-package declutr \\\n",
        "    -f"
      ],
      "execution_count": null,
      "outputs": []
    },
    {
      "cell_type": "markdown",
      "metadata": {
        "id": "eD5dZo18EE-S",
        "colab_type": "text"
      },
      "source": [
        "## ♻️ Conclusion\n",
        "\n",
        "That's it! In this notebook, we covered how to collect data for training the model, and specifically how _long_ that text needs to be. We then briefly covered configuring and running a training session. Please see [our paper](https://arxiv.org/abs/2006.03659) and [repo](https://github.com/JohnGiorgi/DeCLUTR) for more details, and don't hesitate to open an issue if you have any trouble!"
      ]
    }
  ]
}